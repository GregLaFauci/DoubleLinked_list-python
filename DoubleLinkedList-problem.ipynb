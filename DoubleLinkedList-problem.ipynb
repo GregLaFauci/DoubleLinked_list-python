{
 "cells": [
  {
   "cell_type": "code",
   "execution_count": 71,
   "metadata": {},
   "outputs": [],
   "source": [
    "class SList:\n",
    "    class Node:       \n",
    "        def __init__(self, item, link=None, prev = None): # 노드 생성자\n",
    "            self.item = item\n",
    "            self.next = link # 다음 노드\n",
    "            self.prev = prev # 이전 노드\n",
    "        \n",
    "    def __init__(self): # 단순연결리스트 생성자\n",
    "        self.head = self.Node(None,None,None) #첫 노드\n",
    "        self.tail = self.head\n",
    "        self.head.next = self.tail\n",
    "        self.size = 0\n",
    "        \n",
    "    def size(self): return self.size\n",
    "    def is_empty(self): return self.size == 0\n",
    "    \n",
    "    def insert_head(self, item): # 첫 노드로 삽입\n",
    "        if self.is_empty(): # 리스트가 비어있다면 노드를 생성하고 다음노드는 None으로 설정\n",
    "            self.head = self.Node(item)\n",
    "            self.tail = self.head\n",
    "        else:  # 빈 리스트가 아닌경우 노드 생성 후 생성된 노드와 기존 head노드를 연결\n",
    "            tmp = self.head\n",
    "            self.head = self.Node(item, self.head)\n",
    "            tmp.prev = self.head\n",
    "        self.size += 1\n",
    "        \n",
    "    def insert_tail(self, item): # p 다음에 삽입  \n",
    "        if self.is_empty():\n",
    "            self.head = self.Node(item)\n",
    "            self.tail = self.head\n",
    "        else:\n",
    "            current = self.head\n",
    "            current_index = 0;\n",
    "            while current_index < self.size-1:\n",
    "                current = current.next\n",
    "                current_index += 1\n",
    "            new_node = SList.Node(item, None, current)\n",
    "            current.next = new_node\n",
    "            self.tail = new_node\n",
    "            self.size += 1\n",
    "                \n",
    "  \n",
    "    def insert_after(self, item, p): # p 다음에 삽입  \n",
    "        tmp = p.next\n",
    "        new_node = SList.Node(item, tmp, p)\n",
    "        p.next = new_node\n",
    "        tmp.prev = new_node\n",
    "        self.size += 1  \n",
    "        \n",
    "    def insert_at_index(self, item, index): # x 번째 노드 삽입 \n",
    "        current = self.head\n",
    "        current_next = current.next\n",
    "        current_index = 0\n",
    "        if index == 0:\n",
    "            tmp = self.head\n",
    "            self.head = self.Node(item,self.head)\n",
    "            tmp.prev = self.head\n",
    "            self.size += 1\n",
    "        else:\n",
    "            while current_index <= self.size-1:\n",
    "                if current_index == index-1:\n",
    "                    break;\n",
    "                    current = current.next\n",
    "                    current_index +=1\n",
    "            new_node = SList.Node(item,current.next,current)\n",
    "            current.next = new_node\n",
    "            current_next.prev = new_node\n",
    "            self.size += 1\n",
    "            \n",
    "    def delete_head(self): # 첫 노드 삭제\n",
    "        if self.is_empty():\n",
    "            raise EmptyError('Underflow')\n",
    "        else:\n",
    "            tmp = self.head.next\n",
    "            self.head.next = None # 더이상 링크가 필요없는 노드의 다음 링크 Null value (필수는 아님)\n",
    "            self.head = tmp\n",
    "            self.head.prev = None\n",
    "            self.size -= 1\n",
    "\n",
    "    def delete_after(self, p): # p 다음 노드 삭제 \n",
    "        if self.is_empty(): \n",
    "            raise EmptyError('Underflow')\n",
    "        tmp = p.next\n",
    "        p.next = None  # 더이상 링크가 필요없는 노드의 다음 링크 Null value (필수는 아님)\n",
    "        p.next = tmp.next\n",
    "        self.size -= 1\n",
    "        \n",
    "    def delete_at_index(self, index): # i번째 노드 삭제\n",
    "        current = self.head\n",
    "        current_index = 0\n",
    "        if index == 0:\n",
    "            tmp = self.head.next\n",
    "            self.head.next = None\n",
    "            self.head = tmp\n",
    "            self.head.prev = None\n",
    "            self.size -= 1\n",
    "        else:\n",
    "            while current_index < self.size-1:\n",
    "                if current_index == index-1:\n",
    "                    break;\n",
    "                    current = current.next\n",
    "                    current_index += 1\n",
    "            tmp = current.next # tmp 지우려는 노드를 임시 저장하는 공간\n",
    "            tmp.next.prev = current\n",
    "            current.next = tmp.next\n",
    "            tmp.next = None\n",
    "            tmp.prev = None\n",
    "            self.size -= 1\n",
    "    \n",
    "    def search(self, target): # target 탐색\n",
    "        p = self.head\n",
    "        for k in range(self.size):\n",
    "            if target == p.item: \n",
    "                return k\n",
    "            p = p.next\n",
    "        return None\n",
    "\n",
    "    def print_list(self): # 연결리스트 출력\n",
    "        p = self.head\n",
    "        while p:\n",
    "            if p.next != None:\n",
    "                print(p.item, ' -> ', end='')\n",
    "            else:\n",
    "                print(p.item)\n",
    "            p = p.next\n",
    "    def print_list_back(self): #역순 출력 (prev 출력)\n",
    "        p = self.head\n",
    "        p_index = 0\n",
    "        if self.is_empty():\n",
    "            print('리스트가 비어있습니다')\n",
    "        else:\n",
    "            while p_index < self.size-1:\n",
    "                p = p.next\n",
    "                p_index += 1\n",
    "            while p:\n",
    "                if p.prev != None:\n",
    "                    print(p.item, ' -> ', end = '')\n",
    "                else:\n",
    "                    print(p.item)\n",
    "                p = p.prev\n",
    "            \n",
    "            \n",
    "class EmptyError(Exception): # underflow 시 에러 처리\n",
    "    pass"
   ]
  },
  {
   "cell_type": "code",
   "execution_count": 72,
   "metadata": {},
   "outputs": [
    {
     "name": "stdout",
     "output_type": "stream",
     "text": [
      "pear  -> apple  -> orange\n",
      "--prev 연결 확인--\n",
      "apple\n",
      "pear\n",
      "--------------\n",
      "orange\n",
      "apple\n",
      "--------------\n"
     ]
    }
   ],
   "source": [
    "s = SList()\n",
    "s.insert_head('orange')\n",
    "s.insert_head('apple')\n",
    "s.insert_head('pear')  \n",
    "s.print_list()\n",
    "print('--prev 연결 확인--')\n",
    "print(s.head.next.item)\n",
    "print(s.head.next.prev.item)\n",
    "print('--------------')\n",
    "print(s.head.next.next.item)\n",
    "print(s.head.next.next.prev.item)\n",
    "print('--------------')"
   ]
  },
  {
   "cell_type": "code",
   "execution_count": 73,
   "metadata": {},
   "outputs": [
    {
     "name": "stdout",
     "output_type": "stream",
     "text": [
      "제일 첫 노드 후에 삽입:\tpear  -> cherry  -> apple  -> orange\n"
     ]
    }
   ],
   "source": [
    "print('제일 첫 노드 후에 삽입:\\t', end='')\n",
    "s.insert_after('cherry', s.head)\n",
    "s.print_list()"
   ]
  },
  {
   "cell_type": "code",
   "execution_count": 74,
   "metadata": {},
   "outputs": [
    {
     "name": "stdout",
     "output_type": "stream",
     "text": [
      "cherry는  1번째\n",
      "kiwi는 None\n"
     ]
    }
   ],
   "source": [
    "print('cherry는  %d번째' % s.search('cherry'))\n",
    "print('kiwi는', s.search('kiwi'))"
   ]
  },
  {
   "cell_type": "code",
   "execution_count": 75,
   "metadata": {},
   "outputs": [
    {
     "name": "stdout",
     "output_type": "stream",
     "text": [
      "현재 리스트:\tpear  -> cherry  -> apple  -> orange\n"
     ]
    }
   ],
   "source": [
    "print('현재 리스트:\\t', end='')\n",
    "s.print_list()"
   ]
  },
  {
   "cell_type": "code",
   "execution_count": 76,
   "metadata": {},
   "outputs": [
    {
     "name": "stdout",
     "output_type": "stream",
     "text": [
      "첫 노드(헤드) 다음 노드 삭제 후:\tpear  -> apple  -> orange\n"
     ]
    }
   ],
   "source": [
    "print('첫 노드(헤드) 다음 노드 삭제 후:\\t', end='')\n",
    "s.delete_after(s.head)\n",
    "s.print_list()"
   ]
  },
  {
   "cell_type": "code",
   "execution_count": 77,
   "metadata": {},
   "outputs": [
    {
     "name": "stdout",
     "output_type": "stream",
     "text": [
      "첫 노드 삭제 후:\tapple  -> orange\n"
     ]
    }
   ],
   "source": [
    "print('첫 노드 삭제 후:\\t', end='')\n",
    "s.delete_head()\n",
    "s.print_list()"
   ]
  },
  {
   "cell_type": "code",
   "execution_count": 78,
   "metadata": {},
   "outputs": [
    {
     "name": "stdout",
     "output_type": "stream",
     "text": [
      "banana  -> grape  -> apple  -> orange\n"
     ]
    }
   ],
   "source": [
    "s.insert_head('grape')\n",
    "s.insert_head('banana')\n",
    "s.print_list()"
   ]
  },
  {
   "cell_type": "code",
   "execution_count": 79,
   "metadata": {},
   "outputs": [
    {
     "name": "stdout",
     "output_type": "stream",
     "text": [
      "banana  -> grape  -> apple  -> orange\n",
      "banana  -> grape  -> apple  -> orange  -> watermelon\n"
     ]
    }
   ],
   "source": [
    "s.print_list()\n",
    "s.insert_tail('watermelon')\n",
    "s.print_list()"
   ]
  },
  {
   "cell_type": "markdown",
   "metadata": {},
   "source": [
    "###  def insert_at_index(self, item, index): 작성 후 실행"
   ]
  },
  {
   "cell_type": "code",
   "execution_count": 80,
   "metadata": {},
   "outputs": [
    {
     "name": "stdout",
     "output_type": "stream",
     "text": [
      "banana  -> grape  -> apple  -> orange  -> watermelon\n",
      "banana  -> lemon  -> grape  -> apple  -> orange  -> watermelon\n",
      "--- prev 확인 ---\n",
      "banana\n",
      "grape\n"
     ]
    }
   ],
   "source": [
    "s.print_list()\n",
    "s.insert_at_index(\"lemon\",1)\n",
    "s.print_list()\n",
    "print('--- prev 확인 ---')\n",
    "print(s.head.next.prev.item) # banana가 나와야 정상\n",
    "print(s.head.next.next.item) # grape가 나와야 정상"
   ]
  },
  {
   "cell_type": "code",
   "execution_count": 81,
   "metadata": {},
   "outputs": [
    {
     "name": "stdout",
     "output_type": "stream",
     "text": [
      "banana  -> lemon  -> grape  -> apple  -> orange  -> watermelon\n",
      "pineapple  -> banana  -> lemon  -> grape  -> apple  -> orange  -> watermelon\n"
     ]
    }
   ],
   "source": [
    "s.print_list()\n",
    "s.insert_at_index(\"pineapple\",0)\n",
    "s.print_list()"
   ]
  },
  {
   "cell_type": "markdown",
   "metadata": {},
   "source": [
    "###  def delete_at_index(self, item, index): 작성 후 실행"
   ]
  },
  {
   "cell_type": "code",
   "execution_count": 82,
   "metadata": {},
   "outputs": [
    {
     "name": "stdout",
     "output_type": "stream",
     "text": [
      "pineapple  -> banana  -> lemon  -> grape  -> apple  -> orange  -> watermelon\n",
      "banana  -> lemon  -> grape  -> apple  -> orange  -> watermelon\n"
     ]
    }
   ],
   "source": [
    "s.print_list()\n",
    "s.delete_at_index(0)\n",
    "s.print_list()"
   ]
  },
  {
   "cell_type": "code",
   "execution_count": 83,
   "metadata": {},
   "outputs": [
    {
     "name": "stdout",
     "output_type": "stream",
     "text": [
      "banana  -> lemon  -> grape  -> apple  -> orange  -> watermelon\n",
      "banana  -> grape  -> apple  -> orange  -> watermelon\n",
      "watermelon  -> orange  -> apple  -> grape  -> banana\n"
     ]
    }
   ],
   "source": [
    "s.print_list()\n",
    "s.delete_at_index(1)\n",
    "s.print_list()\n",
    "s.print_list_back()"
   ]
  },
  {
   "cell_type": "code",
   "execution_count": 84,
   "metadata": {},
   "outputs": [
    {
     "name": "stdout",
     "output_type": "stream",
     "text": [
      "1\n",
      "3  -> 2  -> 1\n"
     ]
    }
   ],
   "source": [
    "s2 = SList()\n",
    "s2.insert_head('1')\n",
    "s2.insert_tail('2')\n",
    "s2.insert_tail('3')\n",
    "print(s2.head.next.prev.item)\n",
    "s2.print_list_back() #watermelon -> orange -> apple -> grape -> banana가 나오면 정상"
   ]
  }
 ],
 "metadata": {
  "kernelspec": {
   "display_name": "Python 3",
   "language": "python",
   "name": "python3"
  },
  "language_info": {
   "codemirror_mode": {
    "name": "ipython",
    "version": 3
   },
   "file_extension": ".py",
   "mimetype": "text/x-python",
   "name": "python",
   "nbconvert_exporter": "python",
   "pygments_lexer": "ipython3",
   "version": "3.7.1"
  }
 },
 "nbformat": 4,
 "nbformat_minor": 2
}
